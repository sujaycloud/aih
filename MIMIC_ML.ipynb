{
 "cells": [
  {
   "cell_type": "markdown",
   "metadata": {},
   "source": [
    "### Import Pre-requisites"
   ]
  },
  {
   "cell_type": "code",
   "execution_count": 1,
   "metadata": {},
   "outputs": [],
   "source": [
    "# Imports\n",
    "import pandas as pd\n",
    "import numpy as np\n",
    "import matplotlib.pyplot as plt\n",
    "import seaborn as sns\n",
    "from sklearn.model_selection import train_test_split\n",
    "from sklearn.metrics import r2_score, mean_squared_error\n",
    "from sklearn.preprocessing import MinMaxScaler\n",
    "from sklearn.neighbors import KNeighborsRegressor\n",
    "from sklearn.linear_model import LinearRegression\n",
    "from sklearn.svm import SVR\n",
    "from sklearn.ensemble import RandomForestRegressor\n",
    "from sklearn.tree import DecisionTreeRegressor\n",
    "from sklearn.ensemble import GradientBoostingRegressor\n",
    "from sklearn.linear_model import SGDRegressor\n",
    "from sklearn.model_selection import GridSearchCV\n"
   ]
  },
  {
   "cell_type": "markdown",
   "metadata": {},
   "source": [
    "### Read MIMIC-IV dataset"
   ]
  },
  {
   "cell_type": "code",
   "execution_count": 2,
   "metadata": {},
   "outputs": [
    {
     "name": "stderr",
     "output_type": "stream",
     "text": [
      "/var/folders/qs/0m6hz3wj0fd1045_rghhzxtr0000gp/T/ipykernel_56233/681484393.py:3: DtypeWarning: Columns (6,8) have mixed types. Specify dtype option on import or set low_memory=False.\n",
      "  df_chart_events = pd.read_csv('../mimic_iv_data/chartevents.csv.gz', compression='gzip')\n"
     ]
    }
   ],
   "source": [
    "df_icu = pd.read_csv('../mimic_iv_data/icustays.csv.gz', compression='gzip')\n",
    "df_patients = pd.read_csv('../mimic_iv_data/patients.csv.gz', compression='gzip')\n",
    "df_chart_events = pd.read_csv('../mimic_iv_data/chartevents.csv.gz', compression='gzip')\n",
    "df_d_items = pd.read_csv('../mimic_iv_data/d_items.csv.gz', compression='gzip')"
   ]
  },
  {
   "cell_type": "code",
   "execution_count": 3,
   "metadata": {},
   "outputs": [
    {
     "name": "stderr",
     "output_type": "stream",
     "text": [
      "/var/folders/qs/0m6hz3wj0fd1045_rghhzxtr0000gp/T/ipykernel_56233/1662893995.py:1: DtypeWarning: Columns (7,9,12) have mixed types. Specify dtype option on import or set low_memory=False.\n",
      "  df_lab_events = pd.read_csv('../mimic_iv_data/labevents.csv.gz', compression='gzip')\n"
     ]
    }
   ],
   "source": [
    "df_lab_events = pd.read_csv('../mimic_iv_data/labevents.csv.gz', compression='gzip')\n",
    "df_d_labitems = pd.read_csv('../mimic_iv_data/d_labitems.csv.gz', compression='gzip')"
   ]
  },
  {
   "cell_type": "markdown",
   "metadata": {},
   "source": [
    "### Cleanup and Pre-process data"
   ]
  },
  {
   "cell_type": "markdown",
   "metadata": {},
   "source": [
    "- Get age, gender from the patients table"
   ]
  },
  {
   "cell_type": "code",
   "execution_count": 4,
   "metadata": {},
   "outputs": [
    {
     "name": "stdout",
     "output_type": "stream",
     "text": [
      "<class 'pandas.core.frame.DataFrame'>\n",
      "RangeIndex: 382278 entries, 0 to 382277\n",
      "Data columns (total 6 columns):\n",
      " #   Column             Non-Null Count   Dtype \n",
      "---  ------             --------------   ----- \n",
      " 0   subject_id         382278 non-null  int64 \n",
      " 1   gender             382278 non-null  object\n",
      " 2   anchor_age         382278 non-null  int64 \n",
      " 3   anchor_year        382278 non-null  int64 \n",
      " 4   anchor_year_group  382278 non-null  object\n",
      " 5   dod                9509 non-null    object\n",
      "dtypes: int64(3), object(3)\n",
      "memory usage: 17.5+ MB\n"
     ]
    }
   ],
   "source": [
    "df_patients.info()\n",
    "df_patients_f = df_patients"
   ]
  },
  {
   "cell_type": "code",
   "execution_count": 5,
   "metadata": {},
   "outputs": [
    {
     "data": {
      "text/html": [
       "<div>\n",
       "<style scoped>\n",
       "    .dataframe tbody tr th:only-of-type {\n",
       "        vertical-align: middle;\n",
       "    }\n",
       "\n",
       "    .dataframe tbody tr th {\n",
       "        vertical-align: top;\n",
       "    }\n",
       "\n",
       "    .dataframe thead th {\n",
       "        text-align: right;\n",
       "    }\n",
       "</style>\n",
       "<table border=\"1\" class=\"dataframe\">\n",
       "  <thead>\n",
       "    <tr style=\"text-align: right;\">\n",
       "      <th></th>\n",
       "      <th>subject_id</th>\n",
       "      <th>gender</th>\n",
       "      <th>anchor_age</th>\n",
       "      <th>dod</th>\n",
       "    </tr>\n",
       "  </thead>\n",
       "  <tbody>\n",
       "    <tr>\n",
       "      <th>0</th>\n",
       "      <td>10000048</td>\n",
       "      <td>F</td>\n",
       "      <td>23</td>\n",
       "      <td>NaN</td>\n",
       "    </tr>\n",
       "    <tr>\n",
       "      <th>1</th>\n",
       "      <td>10002723</td>\n",
       "      <td>F</td>\n",
       "      <td>0</td>\n",
       "      <td>NaN</td>\n",
       "    </tr>\n",
       "    <tr>\n",
       "      <th>2</th>\n",
       "      <td>10003939</td>\n",
       "      <td>M</td>\n",
       "      <td>0</td>\n",
       "      <td>NaN</td>\n",
       "    </tr>\n",
       "    <tr>\n",
       "      <th>3</th>\n",
       "      <td>10004222</td>\n",
       "      <td>M</td>\n",
       "      <td>0</td>\n",
       "      <td>NaN</td>\n",
       "    </tr>\n",
       "    <tr>\n",
       "      <th>4</th>\n",
       "      <td>10005325</td>\n",
       "      <td>F</td>\n",
       "      <td>0</td>\n",
       "      <td>NaN</td>\n",
       "    </tr>\n",
       "  </tbody>\n",
       "</table>\n",
       "</div>"
      ],
      "text/plain": [
       "   subject_id gender  anchor_age  dod\n",
       "0    10000048      F          23  NaN\n",
       "1    10002723      F           0  NaN\n",
       "2    10003939      M           0  NaN\n",
       "3    10004222      M           0  NaN\n",
       "4    10005325      F           0  NaN"
      ]
     },
     "execution_count": 5,
     "metadata": {},
     "output_type": "execute_result"
    }
   ],
   "source": [
    "# Select subject_id, gender, anchor_age, dod\n",
    "selected_columns = ['subject_id', 'gender', 'anchor_age', 'dod']\n",
    "df_patients_f = df_patients.loc[:, selected_columns]\n",
    "df_patients_f.head()"
   ]
  },
  {
   "cell_type": "code",
   "execution_count": 6,
   "metadata": {},
   "outputs": [
    {
     "name": "stderr",
     "output_type": "stream",
     "text": [
      "/var/folders/qs/0m6hz3wj0fd1045_rghhzxtr0000gp/T/ipykernel_56233/982517482.py:6: FutureWarning: Downcasting behavior in `replace` is deprecated and will be removed in a future version. To retain the old behavior, explicitly call `result.infer_objects(copy=False)`. To opt-in to the future behavior, set `pd.set_option('future.no_silent_downcasting', True)`\n",
      "  df_patients_f['gender'] = df_patients_f['gender'].replace({'M': 0, 'F': 1})\n"
     ]
    },
    {
     "data": {
      "text/html": [
       "<div>\n",
       "<style scoped>\n",
       "    .dataframe tbody tr th:only-of-type {\n",
       "        vertical-align: middle;\n",
       "    }\n",
       "\n",
       "    .dataframe tbody tr th {\n",
       "        vertical-align: top;\n",
       "    }\n",
       "\n",
       "    .dataframe thead th {\n",
       "        text-align: right;\n",
       "    }\n",
       "</style>\n",
       "<table border=\"1\" class=\"dataframe\">\n",
       "  <thead>\n",
       "    <tr style=\"text-align: right;\">\n",
       "      <th></th>\n",
       "      <th>subject_id</th>\n",
       "      <th>gender</th>\n",
       "      <th>anchor_age</th>\n",
       "      <th>deceased</th>\n",
       "    </tr>\n",
       "  </thead>\n",
       "  <tbody>\n",
       "    <tr>\n",
       "      <th>0</th>\n",
       "      <td>10000048</td>\n",
       "      <td>1</td>\n",
       "      <td>23</td>\n",
       "      <td>0</td>\n",
       "    </tr>\n",
       "    <tr>\n",
       "      <th>1</th>\n",
       "      <td>10002723</td>\n",
       "      <td>1</td>\n",
       "      <td>0</td>\n",
       "      <td>0</td>\n",
       "    </tr>\n",
       "    <tr>\n",
       "      <th>2</th>\n",
       "      <td>10003939</td>\n",
       "      <td>0</td>\n",
       "      <td>0</td>\n",
       "      <td>0</td>\n",
       "    </tr>\n",
       "    <tr>\n",
       "      <th>3</th>\n",
       "      <td>10004222</td>\n",
       "      <td>0</td>\n",
       "      <td>0</td>\n",
       "      <td>0</td>\n",
       "    </tr>\n",
       "    <tr>\n",
       "      <th>4</th>\n",
       "      <td>10005325</td>\n",
       "      <td>1</td>\n",
       "      <td>0</td>\n",
       "      <td>0</td>\n",
       "    </tr>\n",
       "  </tbody>\n",
       "</table>\n",
       "</div>"
      ],
      "text/plain": [
       "   subject_id  gender  anchor_age  deceased\n",
       "0    10000048       1          23         0\n",
       "1    10002723       1           0         0\n",
       "2    10003939       0           0         0\n",
       "3    10004222       0           0         0\n",
       "4    10005325       1           0         0"
      ]
     },
     "execution_count": 6,
     "metadata": {},
     "output_type": "execute_result"
    }
   ],
   "source": [
    "# Replace dod with disceased, NaN with 0, and not NaN with 1\n",
    "df_patients_f['dod'] = df_patients_f['dod'].notna().astype(int)\n",
    "# Rename the columns\n",
    "df_patients_f.rename(columns={'dod': 'deceased'}, inplace=True)\n",
    "# Change gender M to 0 and F to 1\n",
    "df_patients_f['gender'] = df_patients_f['gender'].replace({'M': 0, 'F': 1})\n",
    "df_patients_f.head()"
   ]
  },
  {
   "cell_type": "markdown",
   "metadata": {},
   "source": [
    "- Plot the age histogram"
   ]
  },
  {
   "cell_type": "code",
   "execution_count": 7,
   "metadata": {},
   "outputs": [
    {
     "data": {
      "image/png": "[encoded data removed]",
      "text/plain": [
       "<Figure size 1000x600 with 1 Axes>"
      ]
     },
     "metadata": {},
     "output_type": "display_data"
    }
   ],
   "source": [
    "# Create histogram of anchor_age\n",
    "plt.figure(figsize=(10, 6))\n",
    "sns.histplot(df_patients_f['anchor_age'], bins=30, kde=True)\n",
    "plt.title('Distribution of Anchor Age')\n",
    "plt.xlabel('Anchor Age')\n",
    "plt.ylabel('Frequency')\n",
    "plt.show()"
   ]
  },
  {
   "cell_type": "code",
   "execution_count": 8,
   "metadata": {},
   "outputs": [],
   "source": [
    "# Include only patients with anchor_age > 0\n",
    "df_patients_f = df_patients_f[df_patients_f['anchor_age'] > 0]"
   ]
  },
  {
   "cell_type": "markdown",
   "metadata": {},
   "source": [
    "- Find number of patients who are deceased"
   ]
  },
  {
   "cell_type": "code",
   "execution_count": 9,
   "metadata": {},
   "outputs": [
    {
     "name": "stdout",
     "output_type": "stream",
     "text": [
      "deceased\n",
      "0    312110\n",
      "1      9296\n",
      "Name: count, dtype: int64\n"
     ]
    }
   ],
   "source": [
    "# Find number of patients who are deceased\n",
    "deceased_count = df_patients_f['deceased'].value_counts()\n",
    "print(deceased_count)"
   ]
  },
  {
   "cell_type": "markdown",
   "metadata": {},
   "source": [
    "- Find the itemids for the chart events (Heart Rate, Blood Pressure, SpO2, Temperature)"
   ]
  },
  {
   "cell_type": "code",
   "execution_count": 10,
   "metadata": {},
   "outputs": [
    {
     "name": "stdout",
     "output_type": "stream",
     "text": [
      "<class 'pandas.core.frame.DataFrame'>\n",
      "RangeIndex: 3861 entries, 0 to 3860\n",
      "Data columns (total 9 columns):\n",
      " #   Column           Non-Null Count  Dtype  \n",
      "---  ------           --------------  -----  \n",
      " 0   itemid           3861 non-null   int64  \n",
      " 1   label            3861 non-null   object \n",
      " 2   abbreviation     3861 non-null   object \n",
      " 3   linksto          3861 non-null   object \n",
      " 4   category         3861 non-null   object \n",
      " 5   unitname         979 non-null    object \n",
      " 6   param_type       3861 non-null   object \n",
      " 7   lownormalvalue   19 non-null     float64\n",
      " 8   highnormalvalue  22 non-null     float64\n",
      "dtypes: float64(2), int64(1), object(6)\n",
      "memory usage: 271.6+ KB\n"
     ]
    },
    {
     "data": {
      "text/html": [
       "<div>\n",
       "<style scoped>\n",
       "    .dataframe tbody tr th:only-of-type {\n",
       "        vertical-align: middle;\n",
       "    }\n",
       "\n",
       "    .dataframe tbody tr th {\n",
       "        vertical-align: top;\n",
       "    }\n",
       "\n",
       "    .dataframe thead th {\n",
       "        text-align: right;\n",
       "    }\n",
       "</style>\n",
       "<table border=\"1\" class=\"dataframe\">\n",
       "  <thead>\n",
       "    <tr style=\"text-align: right;\">\n",
       "      <th></th>\n",
       "      <th>itemid</th>\n",
       "      <th>label</th>\n",
       "      <th>abbreviation</th>\n",
       "      <th>linksto</th>\n",
       "      <th>category</th>\n",
       "      <th>unitname</th>\n",
       "      <th>param_type</th>\n",
       "      <th>lownormalvalue</th>\n",
       "      <th>highnormalvalue</th>\n",
       "    </tr>\n",
       "  </thead>\n",
       "  <tbody>\n",
       "    <tr>\n",
       "      <th>220</th>\n",
       "      <td>223761</td>\n",
       "      <td>Temperature Fahrenheit</td>\n",
       "      <td>Temperature F</td>\n",
       "      <td>chartevents</td>\n",
       "      <td>Routine Vital Signs</td>\n",
       "      <td>°F</td>\n",
       "      <td>Numeric</td>\n",
       "      <td>NaN</td>\n",
       "      <td>NaN</td>\n",
       "    </tr>\n",
       "    <tr>\n",
       "      <th>221</th>\n",
       "      <td>223762</td>\n",
       "      <td>Temperature Celsius</td>\n",
       "      <td>Temperature C</td>\n",
       "      <td>chartevents</td>\n",
       "      <td>Routine Vital Signs</td>\n",
       "      <td>°C</td>\n",
       "      <td>Numeric</td>\n",
       "      <td>NaN</td>\n",
       "      <td>NaN</td>\n",
       "    </tr>\n",
       "    <tr>\n",
       "      <th>368</th>\n",
       "      <td>224027</td>\n",
       "      <td>Skin Temperature</td>\n",
       "      <td>Skin Temp</td>\n",
       "      <td>chartevents</td>\n",
       "      <td>Skin - Assessment</td>\n",
       "      <td>NaN</td>\n",
       "      <td>Text</td>\n",
       "      <td>NaN</td>\n",
       "      <td>NaN</td>\n",
       "    </tr>\n",
       "    <tr>\n",
       "      <th>589</th>\n",
       "      <td>224642</td>\n",
       "      <td>Temperature Site</td>\n",
       "      <td>Temp Site</td>\n",
       "      <td>chartevents</td>\n",
       "      <td>Routine Vital Signs</td>\n",
       "      <td>NaN</td>\n",
       "      <td>Text</td>\n",
       "      <td>NaN</td>\n",
       "      <td>NaN</td>\n",
       "    </tr>\n",
       "    <tr>\n",
       "      <th>1405</th>\n",
       "      <td>226329</td>\n",
       "      <td>Blood Temperature CCO (C)</td>\n",
       "      <td>Blood Temp CCO (C)</td>\n",
       "      <td>chartevents</td>\n",
       "      <td>Routine Vital Signs</td>\n",
       "      <td>°C</td>\n",
       "      <td>Numeric</td>\n",
       "      <td>NaN</td>\n",
       "      <td>NaN</td>\n",
       "    </tr>\n",
       "  </tbody>\n",
       "</table>\n",
       "</div>"
      ],
      "text/plain": [
       "      itemid                      label        abbreviation      linksto  \\\n",
       "220   223761     Temperature Fahrenheit       Temperature F  chartevents   \n",
       "221   223762        Temperature Celsius       Temperature C  chartevents   \n",
       "368   224027           Skin Temperature           Skin Temp  chartevents   \n",
       "589   224642           Temperature Site           Temp Site  chartevents   \n",
       "1405  226329  Blood Temperature CCO (C)  Blood Temp CCO (C)  chartevents   \n",
       "\n",
       "                 category unitname param_type  lownormalvalue  highnormalvalue  \n",
       "220   Routine Vital Signs       °F    Numeric             NaN              NaN  \n",
       "221   Routine Vital Signs       °C    Numeric             NaN              NaN  \n",
       "368     Skin - Assessment      NaN       Text             NaN              NaN  \n",
       "589   Routine Vital Signs      NaN       Text             NaN              NaN  \n",
       "1405  Routine Vital Signs       °C    Numeric             NaN              NaN  "
      ]
     },
     "execution_count": 10,
     "metadata": {},
     "output_type": "execute_result"
    }
   ],
   "source": [
    "df_d_items.info()\n",
    "df_d_items.head()\n",
    "# Find item for Heart Rate, Blood Pressure, SpO2, Temperature\n",
    "df_d_items[df_d_items['label'].str.contains('Heart Rate', na=False)].head()\n",
    "df_d_items[df_d_items['label'].str.contains('Blood Pressure', na=False)].head()\n",
    "df_d_items[df_d_items['label'].str.contains('SpO2', na=False)].head()\n",
    "df_d_items[df_d_items['label'].str.contains('Temperature', na=False)].head()\n"
   ]
  },
  {
   "cell_type": "markdown",
   "metadata": {},
   "source": [
    "- Get only the critical vitals from the chart events"
   ]
  },
  {
   "cell_type": "code",
   "execution_count": 11,
   "metadata": {},
   "outputs": [
    {
     "name": "stdout",
     "output_type": "stream",
     "text": [
      "220045: Heart Rate\n",
      "220050: Arterial Blood Pressure systolic\n",
      "220051: Arterial Blood Pressure diastolic\n",
      "226253: SpO2 Desat Limit\n",
      "223761: Temperature Fahrenheit\n",
      "220210: Respiratory Rate\n",
      "220179: Non Invasive Blood Pressure systolic\n",
      "220180: Non Invasive Blood Pressure diastolic\n",
      "220181: Non Invasive Blood Pressure mean\n",
      "223762: Temperature Celsius\n",
      "220277: O2 saturation pulseoxymetry\n",
      "223835: Inspired O2 Fraction\n",
      "224700: Total PEEP Level\n"
     ]
    }
   ],
   "source": [
    "chart_events_list = [220045, 220050, 220051, 226253, 223761, 220210, \n",
    "                    220179, 220180, 220181, 223762, 220277, 223835, 224700]\n",
    "for itemid in chart_events_list:\n",
    "    print(f'{itemid}: {df_d_items[df_d_items[\"itemid\"] == itemid][\"label\"].values[0]}')"
   ]
  },
  {
   "cell_type": "markdown",
   "metadata": {},
   "source": [
    "- Filter the chart events for only the desired events"
   ]
  },
  {
   "cell_type": "code",
   "execution_count": 12,
   "metadata": {},
   "outputs": [
    {
     "name": "stderr",
     "output_type": "stream",
     "text": [
      "/var/folders/qs/0m6hz3wj0fd1045_rghhzxtr0000gp/T/ipykernel_56233/4228789061.py:3: SettingWithCopyWarning: \n",
      "A value is trying to be set on a copy of a slice from a DataFrame\n",
      "\n",
      "See the caveats in the documentation: https://pandas.pydata.org/pandas-docs/stable/user_guide/indexing.html#returning-a-view-versus-a-copy\n",
      "  df_chart_events_f.drop_duplicates(subset=['subject_id', 'itemid'], inplace=True)\n"
     ]
    },
    {
     "data": {
      "text/html": [
       "<div>\n",
       "<style scoped>\n",
       "    .dataframe tbody tr th:only-of-type {\n",
       "        vertical-align: middle;\n",
       "    }\n",
       "\n",
       "    .dataframe tbody tr th {\n",
       "        vertical-align: top;\n",
       "    }\n",
       "\n",
       "    .dataframe thead th {\n",
       "        text-align: right;\n",
       "    }\n",
       "</style>\n",
       "<table border=\"1\" class=\"dataframe\">\n",
       "  <thead>\n",
       "    <tr style=\"text-align: right;\">\n",
       "      <th></th>\n",
       "      <th>subject_id</th>\n",
       "      <th>hadm_id</th>\n",
       "      <th>stay_id</th>\n",
       "      <th>charttime</th>\n",
       "      <th>storetime</th>\n",
       "      <th>itemid</th>\n",
       "      <th>value</th>\n",
       "      <th>valuenum</th>\n",
       "      <th>valueuom</th>\n",
       "      <th>warning</th>\n",
       "    </tr>\n",
       "  </thead>\n",
       "  <tbody>\n",
       "    <tr>\n",
       "      <th>12</th>\n",
       "      <td>10003700</td>\n",
       "      <td>28623837</td>\n",
       "      <td>30600691</td>\n",
       "      <td>2165-04-24 05:28:00</td>\n",
       "      <td>2165-04-24 05:37:00</td>\n",
       "      <td>220179</td>\n",
       "      <td>152.0</td>\n",
       "      <td>152.0</td>\n",
       "      <td>mmHg</td>\n",
       "      <td>0</td>\n",
       "    </tr>\n",
       "    <tr>\n",
       "      <th>13</th>\n",
       "      <td>10003700</td>\n",
       "      <td>28623837</td>\n",
       "      <td>30600691</td>\n",
       "      <td>2165-04-24 05:28:00</td>\n",
       "      <td>2165-04-24 05:37:00</td>\n",
       "      <td>220180</td>\n",
       "      <td>97.0</td>\n",
       "      <td>97.0</td>\n",
       "      <td>mmHg</td>\n",
       "      <td>0</td>\n",
       "    </tr>\n",
       "    <tr>\n",
       "      <th>14</th>\n",
       "      <td>10003700</td>\n",
       "      <td>28623837</td>\n",
       "      <td>30600691</td>\n",
       "      <td>2165-04-24 05:28:00</td>\n",
       "      <td>2165-04-24 05:37:00</td>\n",
       "      <td>220181</td>\n",
       "      <td>110.0</td>\n",
       "      <td>110.0</td>\n",
       "      <td>mmHg</td>\n",
       "      <td>0</td>\n",
       "    </tr>\n",
       "    <tr>\n",
       "      <th>15</th>\n",
       "      <td>10003700</td>\n",
       "      <td>28623837</td>\n",
       "      <td>30600691</td>\n",
       "      <td>2165-04-24 05:30:00</td>\n",
       "      <td>2165-04-24 05:37:00</td>\n",
       "      <td>220045</td>\n",
       "      <td>65.0</td>\n",
       "      <td>65.0</td>\n",
       "      <td>bpm</td>\n",
       "      <td>0</td>\n",
       "    </tr>\n",
       "    <tr>\n",
       "      <th>16</th>\n",
       "      <td>10003700</td>\n",
       "      <td>28623837</td>\n",
       "      <td>30600691</td>\n",
       "      <td>2165-04-24 05:30:00</td>\n",
       "      <td>2165-04-24 05:37:00</td>\n",
       "      <td>220210</td>\n",
       "      <td>14.0</td>\n",
       "      <td>14.0</td>\n",
       "      <td>insp/min</td>\n",
       "      <td>0</td>\n",
       "    </tr>\n",
       "  </tbody>\n",
       "</table>\n",
       "</div>"
      ],
      "text/plain": [
       "    subject_id   hadm_id   stay_id            charttime            storetime  \\\n",
       "12    10003700  28623837  30600691  2165-04-24 05:28:00  2165-04-24 05:37:00   \n",
       "13    10003700  28623837  30600691  2165-04-24 05:28:00  2165-04-24 05:37:00   \n",
       "14    10003700  28623837  30600691  2165-04-24 05:28:00  2165-04-24 05:37:00   \n",
       "15    10003700  28623837  30600691  2165-04-24 05:30:00  2165-04-24 05:37:00   \n",
       "16    10003700  28623837  30600691  2165-04-24 05:30:00  2165-04-24 05:37:00   \n",
       "\n",
       "    itemid  value  valuenum  valueuom  warning  \n",
       "12  220179  152.0     152.0      mmHg        0  \n",
       "13  220180   97.0      97.0      mmHg        0  \n",
       "14  220181  110.0     110.0      mmHg        0  \n",
       "15  220045   65.0      65.0       bpm        0  \n",
       "16  220210   14.0      14.0  insp/min        0  "
      ]
     },
     "execution_count": 12,
     "metadata": {},
     "output_type": "execute_result"
    }
   ],
   "source": [
    "\n",
    "df_chart_events_f = df_chart_events[df_chart_events['itemid'].isin(chart_events_list)]\n",
    "# Remove duplicate items in itemid\n",
    "df_chart_events_f.drop_duplicates(subset=['subject_id', 'itemid'], inplace=True)\n",
    "df_chart_events_f.head()\n"
   ]
  },
  {
   "cell_type": "code",
   "execution_count": 13,
   "metadata": {},
   "outputs": [
    {
     "data": {
      "text/html": [
       "<div>\n",
       "<style scoped>\n",
       "    .dataframe tbody tr th:only-of-type {\n",
       "        vertical-align: middle;\n",
       "    }\n",
       "\n",
       "    .dataframe tbody tr th {\n",
       "        vertical-align: top;\n",
       "    }\n",
       "\n",
       "    .dataframe thead th {\n",
       "        text-align: right;\n",
       "    }\n",
       "</style>\n",
       "<table border=\"1\" class=\"dataframe\">\n",
       "  <thead>\n",
       "    <tr style=\"text-align: right;\">\n",
       "      <th></th>\n",
       "      <th>subject_id</th>\n",
       "      <th>hadm_id</th>\n",
       "      <th>stay_id</th>\n",
       "      <th>itemid</th>\n",
       "      <th>value</th>\n",
       "    </tr>\n",
       "  </thead>\n",
       "  <tbody>\n",
       "    <tr>\n",
       "      <th>12</th>\n",
       "      <td>10003700</td>\n",
       "      <td>28623837</td>\n",
       "      <td>30600691</td>\n",
       "      <td>220179</td>\n",
       "      <td>152.0</td>\n",
       "    </tr>\n",
       "    <tr>\n",
       "      <th>13</th>\n",
       "      <td>10003700</td>\n",
       "      <td>28623837</td>\n",
       "      <td>30600691</td>\n",
       "      <td>220180</td>\n",
       "      <td>97.0</td>\n",
       "    </tr>\n",
       "    <tr>\n",
       "      <th>14</th>\n",
       "      <td>10003700</td>\n",
       "      <td>28623837</td>\n",
       "      <td>30600691</td>\n",
       "      <td>220181</td>\n",
       "      <td>110.0</td>\n",
       "    </tr>\n",
       "    <tr>\n",
       "      <th>15</th>\n",
       "      <td>10003700</td>\n",
       "      <td>28623837</td>\n",
       "      <td>30600691</td>\n",
       "      <td>220045</td>\n",
       "      <td>65.0</td>\n",
       "    </tr>\n",
       "    <tr>\n",
       "      <th>16</th>\n",
       "      <td>10003700</td>\n",
       "      <td>28623837</td>\n",
       "      <td>30600691</td>\n",
       "      <td>220210</td>\n",
       "      <td>14.0</td>\n",
       "    </tr>\n",
       "  </tbody>\n",
       "</table>\n",
       "</div>"
      ],
      "text/plain": [
       "    subject_id   hadm_id   stay_id  itemid  value\n",
       "12    10003700  28623837  30600691  220179  152.0\n",
       "13    10003700  28623837  30600691  220180   97.0\n",
       "14    10003700  28623837  30600691  220181  110.0\n",
       "15    10003700  28623837  30600691  220045   65.0\n",
       "16    10003700  28623837  30600691  220210   14.0"
      ]
     },
     "execution_count": 13,
     "metadata": {},
     "output_type": "execute_result"
    }
   ],
   "source": [
    "# Select the relevant columns\n",
    "selected_columns = ['subject_id', 'hadm_id', 'stay_id', 'itemid', 'value']\n",
    "df_chart_events_f = df_chart_events_f.loc[:, selected_columns]\n",
    "df_chart_events_f.head()"
   ]
  },
  {
   "cell_type": "markdown",
   "metadata": {},
   "source": [
    "- Pivot and create new columns for the chart event list"
   ]
  },
  {
   "cell_type": "code",
   "execution_count": 14,
   "metadata": {},
   "outputs": [
    {
     "data": {
      "text/html": [
       "<div>\n",
       "<style scoped>\n",
       "    .dataframe tbody tr th:only-of-type {\n",
       "        vertical-align: middle;\n",
       "    }\n",
       "\n",
       "    .dataframe tbody tr th {\n",
       "        vertical-align: top;\n",
       "    }\n",
       "\n",
       "    .dataframe thead th {\n",
       "        text-align: right;\n",
       "    }\n",
       "</style>\n",
       "<table border=\"1\" class=\"dataframe\">\n",
       "  <thead>\n",
       "    <tr style=\"text-align: right;\">\n",
       "      <th></th>\n",
       "      <th>subject_id</th>\n",
       "      <th>220045</th>\n",
       "      <th>220050</th>\n",
       "      <th>220051</th>\n",
       "      <th>226253</th>\n",
       "      <th>223761</th>\n",
       "      <th>220210</th>\n",
       "      <th>220179</th>\n",
       "      <th>220180</th>\n",
       "      <th>220181</th>\n",
       "      <th>223762</th>\n",
       "      <th>220277</th>\n",
       "      <th>223835</th>\n",
       "      <th>224700</th>\n",
       "    </tr>\n",
       "  </thead>\n",
       "  <tbody>\n",
       "    <tr>\n",
       "      <th>5</th>\n",
       "      <td>10002013</td>\n",
       "      <td>80</td>\n",
       "      <td>134</td>\n",
       "      <td>75</td>\n",
       "      <td>104</td>\n",
       "      <td>70</td>\n",
       "      <td>77</td>\n",
       "      <td>14</td>\n",
       "      <td>100</td>\n",
       "      <td>97.2</td>\n",
       "      <td>37.2</td>\n",
       "      <td>100</td>\n",
       "      <td>5</td>\n",
       "      <td>85</td>\n",
       "    </tr>\n",
       "    <tr>\n",
       "      <th>31</th>\n",
       "      <td>10005348</td>\n",
       "      <td>84.0</td>\n",
       "      <td>118.0</td>\n",
       "      <td>56.0</td>\n",
       "      <td>109.0</td>\n",
       "      <td>52.0</td>\n",
       "      <td>67.0</td>\n",
       "      <td>15.0</td>\n",
       "      <td>100.0</td>\n",
       "      <td>97.7</td>\n",
       "      <td>35.1</td>\n",
       "      <td>100.0</td>\n",
       "      <td>5.9</td>\n",
       "      <td>85.0</td>\n",
       "    </tr>\n",
       "    <tr>\n",
       "      <th>33</th>\n",
       "      <td>10005817</td>\n",
       "      <td>80</td>\n",
       "      <td>126</td>\n",
       "      <td>51</td>\n",
       "      <td>118</td>\n",
       "      <td>40</td>\n",
       "      <td>57</td>\n",
       "      <td>15</td>\n",
       "      <td>100</td>\n",
       "      <td>98.3</td>\n",
       "      <td>36.2</td>\n",
       "      <td>100</td>\n",
       "      <td>6</td>\n",
       "      <td>85</td>\n",
       "    </tr>\n",
       "    <tr>\n",
       "      <th>36</th>\n",
       "      <td>10006053</td>\n",
       "      <td>114</td>\n",
       "      <td>130</td>\n",
       "      <td>58</td>\n",
       "      <td>110</td>\n",
       "      <td>62</td>\n",
       "      <td>74</td>\n",
       "      <td>32</td>\n",
       "      <td>100</td>\n",
       "      <td>94.6</td>\n",
       "      <td>34.7</td>\n",
       "      <td>80</td>\n",
       "      <td>13</td>\n",
       "      <td>88</td>\n",
       "    </tr>\n",
       "    <tr>\n",
       "      <th>45</th>\n",
       "      <td>10007818</td>\n",
       "      <td>97.0</td>\n",
       "      <td>85.0</td>\n",
       "      <td>47.0</td>\n",
       "      <td>63.0</td>\n",
       "      <td>41.0</td>\n",
       "      <td>46.0</td>\n",
       "      <td>28.0</td>\n",
       "      <td>99.0</td>\n",
       "      <td>98.1</td>\n",
       "      <td>36.1</td>\n",
       "      <td>100.0</td>\n",
       "      <td>6.0</td>\n",
       "      <td>88.0</td>\n",
       "    </tr>\n",
       "  </tbody>\n",
       "</table>\n",
       "</div>"
      ],
      "text/plain": [
       "    subject_id 220045 220050 220051 226253 223761 220210 220179 220180 220181  \\\n",
       "5     10002013     80    134     75    104     70     77     14    100   97.2   \n",
       "31    10005348   84.0  118.0   56.0  109.0   52.0   67.0   15.0  100.0   97.7   \n",
       "33    10005817     80    126     51    118     40     57     15    100   98.3   \n",
       "36    10006053    114    130     58    110     62     74     32    100   94.6   \n",
       "45    10007818   97.0   85.0   47.0   63.0   41.0   46.0   28.0   99.0   98.1   \n",
       "\n",
       "   223762 220277 223835 224700  \n",
       "5    37.2    100      5     85  \n",
       "31   35.1  100.0    5.9   85.0  \n",
       "33   36.2    100      6     85  \n",
       "36   34.7     80     13     88  \n",
       "45   36.1  100.0    6.0   88.0  "
      ]
     },
     "execution_count": 14,
     "metadata": {},
     "output_type": "execute_result"
    }
   ],
   "source": [
    "# Pivot on itemid\n",
    "df_chart_events_pivot = df_chart_events_f.pivot(index='subject_id', columns='itemid', values='value').reset_index()\n",
    "# Rename the columns\n",
    "chart_events_list_str = [str(itemid) for itemid in chart_events_list]\n",
    "df_chart_events_pivot.columns = ['subject_id'] + chart_events_list_str\n",
    "df_chart_events_pivot.dropna(axis=0, inplace=True)\n",
    "df_chart_events_pivot.head()\n"
   ]
  },
  {
   "cell_type": "markdown",
   "metadata": {},
   "source": [
    "- Find the critical lab events"
   ]
  },
  {
   "cell_type": "code",
   "execution_count": 15,
   "metadata": {},
   "outputs": [
    {
     "name": "stdout",
     "output_type": "stream",
     "text": [
      "50813: Lactate\n",
      "50882: Bicarbonate\n",
      "50912: Creatinine\n",
      "50809: Glucose\n",
      "51221: Hematocrit\n"
     ]
    }
   ],
   "source": [
    "lab_events_list = [50813, 50882, 50912, 50809, 51221]\n",
    "for itemid in lab_events_list:\n",
    "    print(f'{itemid}: {df_d_labitems[df_d_labitems[\"itemid\"] == itemid][\"label\"].values[0]}')"
   ]
  },
  {
   "cell_type": "markdown",
   "metadata": {},
   "source": [
    "- Filter the lab events table"
   ]
  },
  {
   "cell_type": "code",
   "execution_count": 16,
   "metadata": {},
   "outputs": [
    {
     "name": "stderr",
     "output_type": "stream",
     "text": [
      "/var/folders/qs/0m6hz3wj0fd1045_rghhzxtr0000gp/T/ipykernel_56233/190256166.py:3: SettingWithCopyWarning: \n",
      "A value is trying to be set on a copy of a slice from a DataFrame\n",
      "\n",
      "See the caveats in the documentation: https://pandas.pydata.org/pandas-docs/stable/user_guide/indexing.html#returning-a-view-versus-a-copy\n",
      "  df_lab_events_f.drop_duplicates(subset=['subject_id', 'itemid'], inplace=True)\n"
     ]
    },
    {
     "data": {
      "text/html": [
       "<div>\n",
       "<style scoped>\n",
       "    .dataframe tbody tr th:only-of-type {\n",
       "        vertical-align: middle;\n",
       "    }\n",
       "\n",
       "    .dataframe tbody tr th {\n",
       "        vertical-align: top;\n",
       "    }\n",
       "\n",
       "    .dataframe thead th {\n",
       "        text-align: right;\n",
       "    }\n",
       "</style>\n",
       "<table border=\"1\" class=\"dataframe\">\n",
       "  <thead>\n",
       "    <tr style=\"text-align: right;\">\n",
       "      <th></th>\n",
       "      <th>labevent_id</th>\n",
       "      <th>subject_id</th>\n",
       "      <th>hadm_id</th>\n",
       "      <th>specimen_id</th>\n",
       "      <th>itemid</th>\n",
       "      <th>charttime</th>\n",
       "      <th>storetime</th>\n",
       "      <th>value</th>\n",
       "      <th>valuenum</th>\n",
       "      <th>valueuom</th>\n",
       "      <th>ref_range_lower</th>\n",
       "      <th>ref_range_upper</th>\n",
       "      <th>flag</th>\n",
       "      <th>priority</th>\n",
       "      <th>comments</th>\n",
       "    </tr>\n",
       "  </thead>\n",
       "  <tbody>\n",
       "    <tr>\n",
       "      <th>8</th>\n",
       "      <td>688</td>\n",
       "      <td>10000048</td>\n",
       "      <td>NaN</td>\n",
       "      <td>82729055</td>\n",
       "      <td>50882</td>\n",
       "      <td>2126-11-22 20:45:00</td>\n",
       "      <td>2126-11-22 21:32:00</td>\n",
       "      <td>26</td>\n",
       "      <td>26.0</td>\n",
       "      <td>mEq/L</td>\n",
       "      <td>22.0</td>\n",
       "      <td>32.0</td>\n",
       "      <td>NaN</td>\n",
       "      <td>STAT</td>\n",
       "      <td>NaN</td>\n",
       "    </tr>\n",
       "    <tr>\n",
       "      <th>11</th>\n",
       "      <td>691</td>\n",
       "      <td>10000048</td>\n",
       "      <td>NaN</td>\n",
       "      <td>82729055</td>\n",
       "      <td>50912</td>\n",
       "      <td>2126-11-22 20:45:00</td>\n",
       "      <td>2126-11-22 21:32:00</td>\n",
       "      <td>0.7</td>\n",
       "      <td>0.7</td>\n",
       "      <td>mg/dL</td>\n",
       "      <td>0.4</td>\n",
       "      <td>1.1</td>\n",
       "      <td>NaN</td>\n",
       "      <td>STAT</td>\n",
       "      <td>NaN</td>\n",
       "    </tr>\n",
       "    <tr>\n",
       "      <th>19</th>\n",
       "      <td>700</td>\n",
       "      <td>10000048</td>\n",
       "      <td>NaN</td>\n",
       "      <td>90050443</td>\n",
       "      <td>51221</td>\n",
       "      <td>2126-11-22 20:45:00</td>\n",
       "      <td>2126-11-22 21:32:00</td>\n",
       "      <td>38.2</td>\n",
       "      <td>38.2</td>\n",
       "      <td>%</td>\n",
       "      <td>36.0</td>\n",
       "      <td>48.0</td>\n",
       "      <td>NaN</td>\n",
       "      <td>STAT</td>\n",
       "      <td>NaN</td>\n",
       "    </tr>\n",
       "    <tr>\n",
       "      <th>37</th>\n",
       "      <td>2078</td>\n",
       "      <td>10000473</td>\n",
       "      <td>NaN</td>\n",
       "      <td>46889666</td>\n",
       "      <td>50882</td>\n",
       "      <td>2138-03-15 22:37:00</td>\n",
       "      <td>2138-03-15 23:56:00</td>\n",
       "      <td>25</td>\n",
       "      <td>25.0</td>\n",
       "      <td>mEq/L</td>\n",
       "      <td>22.0</td>\n",
       "      <td>32.0</td>\n",
       "      <td>NaN</td>\n",
       "      <td>STAT</td>\n",
       "      <td>NaN</td>\n",
       "    </tr>\n",
       "    <tr>\n",
       "      <th>40</th>\n",
       "      <td>2081</td>\n",
       "      <td>10000473</td>\n",
       "      <td>NaN</td>\n",
       "      <td>46889666</td>\n",
       "      <td>50912</td>\n",
       "      <td>2138-03-15 22:37:00</td>\n",
       "      <td>2138-03-15 23:56:00</td>\n",
       "      <td>1.2</td>\n",
       "      <td>1.2</td>\n",
       "      <td>mg/dL</td>\n",
       "      <td>0.5</td>\n",
       "      <td>1.2</td>\n",
       "      <td>NaN</td>\n",
       "      <td>STAT</td>\n",
       "      <td>NaN</td>\n",
       "    </tr>\n",
       "  </tbody>\n",
       "</table>\n",
       "</div>"
      ],
      "text/plain": [
       "    labevent_id  subject_id  hadm_id  specimen_id  itemid  \\\n",
       "8           688    10000048      NaN     82729055   50882   \n",
       "11          691    10000048      NaN     82729055   50912   \n",
       "19          700    10000048      NaN     90050443   51221   \n",
       "37         2078    10000473      NaN     46889666   50882   \n",
       "40         2081    10000473      NaN     46889666   50912   \n",
       "\n",
       "              charttime            storetime value  valuenum valueuom  \\\n",
       "8   2126-11-22 20:45:00  2126-11-22 21:32:00    26      26.0    mEq/L   \n",
       "11  2126-11-22 20:45:00  2126-11-22 21:32:00   0.7       0.7    mg/dL   \n",
       "19  2126-11-22 20:45:00  2126-11-22 21:32:00  38.2      38.2        %   \n",
       "37  2138-03-15 22:37:00  2138-03-15 23:56:00    25      25.0    mEq/L   \n",
       "40  2138-03-15 22:37:00  2138-03-15 23:56:00   1.2       1.2    mg/dL   \n",
       "\n",
       "    ref_range_lower  ref_range_upper flag priority comments  \n",
       "8              22.0             32.0  NaN     STAT      NaN  \n",
       "11              0.4              1.1  NaN     STAT      NaN  \n",
       "19             36.0             48.0  NaN     STAT      NaN  \n",
       "37             22.0             32.0  NaN     STAT      NaN  \n",
       "40              0.5              1.2  NaN     STAT      NaN  "
      ]
     },
     "execution_count": 16,
     "metadata": {},
     "output_type": "execute_result"
    }
   ],
   "source": [
    "df_lab_events_f = df_lab_events[df_lab_events['itemid'].isin(lab_events_list)]\n",
    "# Remove duplicate items in itemid\n",
    "df_lab_events_f.drop_duplicates(subset=['subject_id', 'itemid'], inplace=True)\n",
    "df_lab_events_f.head()\n"
   ]
  },
  {
   "cell_type": "code",
   "execution_count": 17,
   "metadata": {},
   "outputs": [
    {
     "data": {
      "text/html": [
       "<div>\n",
       "<style scoped>\n",
       "    .dataframe tbody tr th:only-of-type {\n",
       "        vertical-align: middle;\n",
       "    }\n",
       "\n",
       "    .dataframe tbody tr th {\n",
       "        vertical-align: top;\n",
       "    }\n",
       "\n",
       "    .dataframe thead th {\n",
       "        text-align: right;\n",
       "    }\n",
       "</style>\n",
       "<table border=\"1\" class=\"dataframe\">\n",
       "  <thead>\n",
       "    <tr style=\"text-align: right;\">\n",
       "      <th></th>\n",
       "      <th>subject_id</th>\n",
       "      <th>itemid</th>\n",
       "      <th>value</th>\n",
       "    </tr>\n",
       "  </thead>\n",
       "  <tbody>\n",
       "    <tr>\n",
       "      <th>8</th>\n",
       "      <td>10000048</td>\n",
       "      <td>50882</td>\n",
       "      <td>26</td>\n",
       "    </tr>\n",
       "    <tr>\n",
       "      <th>11</th>\n",
       "      <td>10000048</td>\n",
       "      <td>50912</td>\n",
       "      <td>0.7</td>\n",
       "    </tr>\n",
       "    <tr>\n",
       "      <th>19</th>\n",
       "      <td>10000048</td>\n",
       "      <td>51221</td>\n",
       "      <td>38.2</td>\n",
       "    </tr>\n",
       "    <tr>\n",
       "      <th>37</th>\n",
       "      <td>10000473</td>\n",
       "      <td>50882</td>\n",
       "      <td>25</td>\n",
       "    </tr>\n",
       "    <tr>\n",
       "      <th>40</th>\n",
       "      <td>10000473</td>\n",
       "      <td>50912</td>\n",
       "      <td>1.2</td>\n",
       "    </tr>\n",
       "  </tbody>\n",
       "</table>\n",
       "</div>"
      ],
      "text/plain": [
       "    subject_id  itemid value\n",
       "8     10000048   50882    26\n",
       "11    10000048   50912   0.7\n",
       "19    10000048   51221  38.2\n",
       "37    10000473   50882    25\n",
       "40    10000473   50912   1.2"
      ]
     },
     "execution_count": 17,
     "metadata": {},
     "output_type": "execute_result"
    }
   ],
   "source": [
    "# Select the relevant columns\n",
    "selected_columns = ['subject_id', 'itemid', 'value']\n",
    "df_lab_events_f = df_lab_events_f.loc[:, selected_columns]\n",
    "df_lab_events_f.head()"
   ]
  },
  {
   "cell_type": "code",
   "execution_count": 18,
   "metadata": {},
   "outputs": [
    {
     "data": {
      "text/html": [
       "<div>\n",
       "<style scoped>\n",
       "    .dataframe tbody tr th:only-of-type {\n",
       "        vertical-align: middle;\n",
       "    }\n",
       "\n",
       "    .dataframe tbody tr th {\n",
       "        vertical-align: top;\n",
       "    }\n",
       "\n",
       "    .dataframe thead th {\n",
       "        text-align: right;\n",
       "    }\n",
       "</style>\n",
       "<table border=\"1\" class=\"dataframe\">\n",
       "  <thead>\n",
       "    <tr style=\"text-align: right;\">\n",
       "      <th></th>\n",
       "      <th>subject_id</th>\n",
       "      <th>50813</th>\n",
       "      <th>50882</th>\n",
       "      <th>50912</th>\n",
       "      <th>50809</th>\n",
       "      <th>51221</th>\n",
       "    </tr>\n",
       "  </thead>\n",
       "  <tbody>\n",
       "    <tr>\n",
       "      <th>20</th>\n",
       "      <td>10000826</td>\n",
       "      <td>125</td>\n",
       "      <td>2.3</td>\n",
       "      <td>26</td>\n",
       "      <td>0.4</td>\n",
       "      <td>40.3</td>\n",
       "    </tr>\n",
       "    <tr>\n",
       "      <th>51</th>\n",
       "      <td>10001884</td>\n",
       "      <td>91</td>\n",
       "      <td>0.8</td>\n",
       "      <td>29</td>\n",
       "      <td>0.8</td>\n",
       "      <td>39.9</td>\n",
       "    </tr>\n",
       "    <tr>\n",
       "      <th>54</th>\n",
       "      <td>10002013</td>\n",
       "      <td>332</td>\n",
       "      <td>2.3</td>\n",
       "      <td>26</td>\n",
       "      <td>0.9</td>\n",
       "      <td>33.1</td>\n",
       "    </tr>\n",
       "    <tr>\n",
       "      <th>61</th>\n",
       "      <td>10002223</td>\n",
       "      <td>106</td>\n",
       "      <td>1.0</td>\n",
       "      <td>26</td>\n",
       "      <td>0.9</td>\n",
       "      <td>38.6</td>\n",
       "    </tr>\n",
       "    <tr>\n",
       "      <th>65</th>\n",
       "      <td>10002428</td>\n",
       "      <td>132</td>\n",
       "      <td>2.2</td>\n",
       "      <td>29</td>\n",
       "      <td>0.8</td>\n",
       "      <td>35.2</td>\n",
       "    </tr>\n",
       "  </tbody>\n",
       "</table>\n",
       "</div>"
      ],
      "text/plain": [
       "    subject_id 50813 50882 50912 50809 51221\n",
       "20    10000826   125   2.3    26   0.4  40.3\n",
       "51    10001884    91   0.8    29   0.8  39.9\n",
       "54    10002013   332   2.3    26   0.9  33.1\n",
       "61    10002223   106   1.0    26   0.9  38.6\n",
       "65    10002428   132   2.2    29   0.8  35.2"
      ]
     },
     "execution_count": 18,
     "metadata": {},
     "output_type": "execute_result"
    }
   ],
   "source": [
    "# Pivot on itemid\n",
    "df_lab_events_pivot = df_lab_events_f.pivot(index='subject_id', columns='itemid', values='value').reset_index()\n",
    "lab_events_list_str = [str(itemid) for itemid in lab_events_list]\n",
    "df_lab_events_pivot.columns = ['subject_id'] + lab_events_list_str\n",
    "df_lab_events_pivot.dropna(axis=0, inplace=True)\n",
    "df_lab_events_pivot.head()"
   ]
  },
  {
   "cell_type": "markdown",
   "metadata": {},
   "source": [
    "- Merge the chart, patients and lab events table"
   ]
  },
  {
   "cell_type": "code",
   "execution_count": 19,
   "metadata": {},
   "outputs": [
    {
     "data": {
      "text/html": [
       "<div>\n",
       "<style scoped>\n",
       "    .dataframe tbody tr th:only-of-type {\n",
       "        vertical-align: middle;\n",
       "    }\n",
       "\n",
       "    .dataframe tbody tr th {\n",
       "        vertical-align: top;\n",
       "    }\n",
       "\n",
       "    .dataframe thead th {\n",
       "        text-align: right;\n",
       "    }\n",
       "</style>\n",
       "<table border=\"1\" class=\"dataframe\">\n",
       "  <thead>\n",
       "    <tr style=\"text-align: right;\">\n",
       "      <th></th>\n",
       "      <th>subject_id</th>\n",
       "      <th>220045</th>\n",
       "      <th>220050</th>\n",
       "      <th>220051</th>\n",
       "      <th>226253</th>\n",
       "      <th>223761</th>\n",
       "      <th>220210</th>\n",
       "      <th>220179</th>\n",
       "      <th>220180</th>\n",
       "      <th>220181</th>\n",
       "      <th>...</th>\n",
       "      <th>223835</th>\n",
       "      <th>224700</th>\n",
       "      <th>gender</th>\n",
       "      <th>anchor_age</th>\n",
       "      <th>deceased</th>\n",
       "      <th>50813</th>\n",
       "      <th>50882</th>\n",
       "      <th>50912</th>\n",
       "      <th>50809</th>\n",
       "      <th>51221</th>\n",
       "    </tr>\n",
       "  </thead>\n",
       "  <tbody>\n",
       "    <tr>\n",
       "      <th>0</th>\n",
       "      <td>10002013</td>\n",
       "      <td>80</td>\n",
       "      <td>134</td>\n",
       "      <td>75</td>\n",
       "      <td>104</td>\n",
       "      <td>70</td>\n",
       "      <td>77</td>\n",
       "      <td>14</td>\n",
       "      <td>100</td>\n",
       "      <td>97.2</td>\n",
       "      <td>...</td>\n",
       "      <td>5</td>\n",
       "      <td>85</td>\n",
       "      <td>1</td>\n",
       "      <td>53</td>\n",
       "      <td>0</td>\n",
       "      <td>332</td>\n",
       "      <td>2.3</td>\n",
       "      <td>26</td>\n",
       "      <td>0.9</td>\n",
       "      <td>33.1</td>\n",
       "    </tr>\n",
       "    <tr>\n",
       "      <th>1</th>\n",
       "      <td>10005348</td>\n",
       "      <td>84.0</td>\n",
       "      <td>118.0</td>\n",
       "      <td>56.0</td>\n",
       "      <td>109.0</td>\n",
       "      <td>52.0</td>\n",
       "      <td>67.0</td>\n",
       "      <td>15.0</td>\n",
       "      <td>100.0</td>\n",
       "      <td>97.7</td>\n",
       "      <td>...</td>\n",
       "      <td>5.9</td>\n",
       "      <td>85.0</td>\n",
       "      <td>0</td>\n",
       "      <td>76</td>\n",
       "      <td>0</td>\n",
       "      <td>89</td>\n",
       "      <td>0.6</td>\n",
       "      <td>29</td>\n",
       "      <td>1.1</td>\n",
       "      <td>38.3</td>\n",
       "    </tr>\n",
       "    <tr>\n",
       "      <th>2</th>\n",
       "      <td>10005817</td>\n",
       "      <td>80</td>\n",
       "      <td>126</td>\n",
       "      <td>51</td>\n",
       "      <td>118</td>\n",
       "      <td>40</td>\n",
       "      <td>57</td>\n",
       "      <td>15</td>\n",
       "      <td>100</td>\n",
       "      <td>98.3</td>\n",
       "      <td>...</td>\n",
       "      <td>6</td>\n",
       "      <td>85</td>\n",
       "      <td>0</td>\n",
       "      <td>66</td>\n",
       "      <td>1</td>\n",
       "      <td>226</td>\n",
       "      <td>1.0</td>\n",
       "      <td>32</td>\n",
       "      <td>1.0</td>\n",
       "      <td>25.7</td>\n",
       "    </tr>\n",
       "    <tr>\n",
       "      <th>3</th>\n",
       "      <td>10006053</td>\n",
       "      <td>114</td>\n",
       "      <td>130</td>\n",
       "      <td>58</td>\n",
       "      <td>110</td>\n",
       "      <td>62</td>\n",
       "      <td>74</td>\n",
       "      <td>32</td>\n",
       "      <td>100</td>\n",
       "      <td>94.6</td>\n",
       "      <td>...</td>\n",
       "      <td>13</td>\n",
       "      <td>88</td>\n",
       "      <td>0</td>\n",
       "      <td>52</td>\n",
       "      <td>1</td>\n",
       "      <td>179</td>\n",
       "      <td>0.9</td>\n",
       "      <td>22</td>\n",
       "      <td>1.7</td>\n",
       "      <td>24.0</td>\n",
       "    </tr>\n",
       "    <tr>\n",
       "      <th>4</th>\n",
       "      <td>10007818</td>\n",
       "      <td>97.0</td>\n",
       "      <td>85.0</td>\n",
       "      <td>47.0</td>\n",
       "      <td>63.0</td>\n",
       "      <td>41.0</td>\n",
       "      <td>46.0</td>\n",
       "      <td>28.0</td>\n",
       "      <td>99.0</td>\n",
       "      <td>98.1</td>\n",
       "      <td>...</td>\n",
       "      <td>6.0</td>\n",
       "      <td>88.0</td>\n",
       "      <td>0</td>\n",
       "      <td>69</td>\n",
       "      <td>1</td>\n",
       "      <td>154</td>\n",
       "      <td>7.3</td>\n",
       "      <td>21</td>\n",
       "      <td>2.0</td>\n",
       "      <td>35.6</td>\n",
       "    </tr>\n",
       "  </tbody>\n",
       "</table>\n",
       "<p>5 rows × 22 columns</p>\n",
       "</div>"
      ],
      "text/plain": [
       "   subject_id 220045 220050 220051 226253 223761 220210 220179 220180 220181  \\\n",
       "0    10002013     80    134     75    104     70     77     14    100   97.2   \n",
       "1    10005348   84.0  118.0   56.0  109.0   52.0   67.0   15.0  100.0   97.7   \n",
       "2    10005817     80    126     51    118     40     57     15    100   98.3   \n",
       "3    10006053    114    130     58    110     62     74     32    100   94.6   \n",
       "4    10007818   97.0   85.0   47.0   63.0   41.0   46.0   28.0   99.0   98.1   \n",
       "\n",
       "   ... 223835 224700 gender anchor_age  deceased  50813  50882 50912 50809  \\\n",
       "0  ...      5     85      1         53         0    332    2.3    26   0.9   \n",
       "1  ...    5.9   85.0      0         76         0     89    0.6    29   1.1   \n",
       "2  ...      6     85      0         66         1    226    1.0    32   1.0   \n",
       "3  ...     13     88      0         52         1    179    0.9    22   1.7   \n",
       "4  ...    6.0   88.0      0         69         1    154    7.3    21   2.0   \n",
       "\n",
       "  51221  \n",
       "0  33.1  \n",
       "1  38.3  \n",
       "2  25.7  \n",
       "3  24.0  \n",
       "4  35.6  \n",
       "\n",
       "[5 rows x 22 columns]"
      ]
     },
     "execution_count": 19,
     "metadata": {},
     "output_type": "execute_result"
    }
   ],
   "source": [
    "# Merge with patients\n",
    "df_merged = df_chart_events_pivot.merge(df_patients_f, how='inner', on='subject_id')\n",
    "df_merged = df_merged.merge(df_lab_events_pivot, how='inner', on='subject_id')\n",
    "df_merged.head()"
   ]
  },
  {
   "cell_type": "markdown",
   "metadata": {},
   "source": [
    "- Create the label(target) and the features"
   ]
  },
  {
   "cell_type": "code",
   "execution_count": 20,
   "metadata": {},
   "outputs": [],
   "source": [
    "\n",
    "# Save the merged dataframe\n",
    "df_merged.to_csv('merged_data.csv', index=False)\n"
   ]
  },
  {
   "cell_type": "code",
   "execution_count": 21,
   "metadata": {},
   "outputs": [],
   "source": [
    "import pandas as pd\n",
    "\n",
    "# Read the merged dataframe\n",
    "df_merged = pd.read_csv('merged_data.csv')\n",
    "target = df_merged['deceased']\n",
    "X = df_merged.drop(columns=['subject_id', 'deceased'])\n",
    "y = target\n"
   ]
  },
  {
   "cell_type": "markdown",
   "metadata": {},
   "source": [
    "### Model training"
   ]
  },
  {
   "cell_type": "code",
   "execution_count": 22,
   "metadata": {},
   "outputs": [
    {
     "name": "stdout",
     "output_type": "stream",
     "text": [
      "Training set has 3520 samples.\n",
      "Testing set has 880 samples.\n"
     ]
    }
   ],
   "source": [
    "\n",
    "# Split the data into training and testing sets\n",
    "X_train, X_test, y_train, y_test = train_test_split(X, y, test_size=0.2, random_state=42)\n",
    "\n",
    "\n",
    "# Scale the data\n",
    "scaler = MinMaxScaler()\n",
    "X_train = scaler.fit_transform(X_train)\n",
    "X_test = scaler.transform(X_test)\n",
    "print(\"Training set has {} samples.\".format(X_train.shape[0]))\n",
    "print(\"Testing set has {} samples.\".format(X_test.shape[0]))\n"
   ]
  },
  {
   "cell_type": "markdown",
   "metadata": {},
   "source": [
    "#### Machine Learning Models"
   ]
  },
  {
   "cell_type": "code",
   "execution_count": 23,
   "metadata": {},
   "outputs": [
    {
     "name": "stdout",
     "output_type": "stream",
     "text": [
      "SGDRegressor done.\n",
      "R^2 Score: 0.08273955649574727\n",
      "Mean Squared Error: 0.16390226481133907\n",
      "[[675   0]\n",
      " [202   3]]\n",
      "GradientBoostingRegressor done.\n",
      "R^2 Score: 0.18919636139670715\n",
      "Mean Squared Error: 0.14487984696762737\n",
      "[[636  39]\n",
      " [155  50]]\n",
      "LinearRegression done.\n",
      "R^2 Score: 0.15670936580229355\n",
      "Mean Squared Error: 0.15068484182219477\n",
      "[[651  24]\n",
      " [172  33]]\n",
      "KNeighborsRegressor done.\n",
      "R^2 Score: -0.036603432700993865\n",
      "Mean Squared Error: 0.18522727272727277\n",
      "[[632  43]\n",
      " [176  29]]\n",
      "RandomForestRegressor done.\n",
      "R^2 Score: 0.17066637759710923\n",
      "Mean Squared Error: 0.1481909090909091\n",
      "[[614  61]\n",
      " [151  54]]\n"
     ]
    }
   ],
   "source": [
    "from sklearn.metrics import classification_report\n",
    "from sklearn.metrics import confusion_matrix\n",
    "\n",
    "\n",
    "# Regression models for comparison\n",
    "models = [SGDRegressor(random_state = 0),\n",
    "          GradientBoostingRegressor(random_state = 0),\n",
    "          LinearRegression(),\n",
    "          KNeighborsRegressor(),\n",
    "          RandomForestRegressor(random_state = 0),]\n",
    "\n",
    "results = {}\n",
    "\n",
    "for model in models:\n",
    "\n",
    "    # Instantiate and fit Regressor Model\n",
    "    reg_model = model\n",
    "    reg_model.fit(X_train, y_train)\n",
    "\n",
    "    # Make predictions with model\n",
    "    y_test_preds = reg_model.predict(X_test)\n",
    "\n",
    "    # Grab model name and store results associated with model\n",
    "    name = str(model).split(\"(\")[0]\n",
    "\n",
    "    results[name] = r2_score(y_test, y_test_preds)\n",
    "    print('{} done.'.format(name))\n",
    "    print(\"R^2 Score:\", r2_score(y_test, y_test_preds))\n",
    "    print(\"Mean Squared Error:\", mean_squared_error(y_test, y_test_preds))\n",
    "    #print(classification_report(y_test, (y_test_preds >= 0.5).astype(int)))\n",
    "\n",
    "    # Confusion matrix\n",
    "    y_test_preds = (y_test_preds >= 0.5).astype(int)\n",
    "    cm = confusion_matrix(y_test, y_test_preds)\n",
    "    print(cm)"
   ]
  },
  {
   "cell_type": "code",
   "execution_count": 24,
   "metadata": {},
   "outputs": [
    {
     "data": {
      "text/plain": [
       "Text(0.5, 1.0, 'Comparison of Regression Models')"
      ]
     },
     "execution_count": 24,
     "metadata": {},
     "output_type": "execute_result"
    },
    {
     "data": {
      "image/png": "[encoded data removed]",
      "text/plain": [
       "<Figure size 640x480 with 1 Axes>"
      ]
     },
     "metadata": {},
     "output_type": "display_data"
    }
   ],
   "source": [
    "# R2 score results\n",
    "fig, ax = plt.subplots()\n",
    "ind = range(len(results))\n",
    "ax.barh(ind, list(results.values()), align='center',\n",
    "        color = '#55a868', alpha=0.8)\n",
    "ax.set_yticks(ind)\n",
    "ax.set_yticklabels(results.keys())\n",
    "ax.set_xlabel('R-squared score')\n",
    "ax.tick_params(left=False, top=False, right=False)\n",
    "ax.set_title('Comparison of Regression Models')\n",
    "#fig.savefig('images/compare_models.png', bbox_inches = 'tight')"
   ]
  },
  {
   "cell_type": "code",
   "execution_count": 25,
   "metadata": {},
   "outputs": [
    {
     "name": "stdout",
     "output_type": "stream",
     "text": [
      "R2 score is: 0.189196\n"
     ]
    }
   ],
   "source": [
    "# GradientBoostingRegressor will be used as the deceased prediction model\n",
    "reg_model = GradientBoostingRegressor(random_state=0)\n",
    "reg_model.fit(X_train, y_train)\n",
    "y_test_preds = reg_model.predict(X_test)\n",
    "r2_not_refined = r2_score(y_test, y_test_preds)\n",
    "print(\"R2 score is: {:2f}\".format(r2_not_refined))"
   ]
  },
  {
   "cell_type": "markdown",
   "metadata": {},
   "source": [
    "#### Model finetuning"
   ]
  },
  {
   "cell_type": "code",
   "execution_count": 26,
   "metadata": {},
   "outputs": [
    {
     "name": "stdout",
     "output_type": "stream",
     "text": [
      "0.16494305884071675\n",
      "GradientBoostingRegressor(n_estimators=200)\n"
     ]
    }
   ],
   "source": [
    "# Split into train 80% and test 20%\n",
    "X_train, X_test, y_train, y_test = train_test_split(X,\n",
    "                                                    target,\n",
    "                                                    test_size = .20,\n",
    "                                                    random_state = 42)\n",
    "\n",
    "# Set the parameters by cross-validation\n",
    "#tuned_parameters = [{'n_estimators': [100, 200, 300],\n",
    "#                     'max_depth' : [2, 3, 4],\n",
    "#                     'loss': ['ls', 'lad', 'huber']}]\n",
    "tuned_parameters = [{'n_estimators': [200, 300],\n",
    "                     'max_depth' : [3, 4],\n",
    "                     'loss': ['squared_error', 'absolute_error']}]\n",
    "\n",
    "# create and fit a ridge regression model, testing each alpha\n",
    "reg_model = GradientBoostingRegressor()\n",
    "grid = GridSearchCV(reg_model, tuned_parameters)\n",
    "grid.fit(X_train, y_train)\n",
    "reg_model_optimized = grid.best_estimator_\n",
    "\n",
    "# summarize the results of the grid search\n",
    "print(grid.best_score_)\n",
    "print(grid.best_estimator_)"
   ]
  },
  {
   "cell_type": "code",
   "execution_count": 27,
   "metadata": {},
   "outputs": [
    {
     "name": "stdout",
     "output_type": "stream",
     "text": [
      "Optimized R2 score is: 0.179233\n"
     ]
    }
   ],
   "source": [
    "#reg_model = GradientBoostingRegressor(n_estimators = 200, max_depth=4, random_state=0)\n",
    "#reg_model.fit(X_train, y_train)\n",
    "y_test_preds = reg_model_optimized.predict(X_test)\n",
    "r2_optimized = r2_score(y_test, y_test_preds)\n",
    "print(\"Optimized R2 score is: {:2f}\".format(r2_optimized))"
   ]
  },
  {
   "cell_type": "markdown",
   "metadata": {},
   "source": [
    "- Print the new confusion matrix after optimizing"
   ]
  },
  {
   "cell_type": "code",
   "execution_count": 28,
   "metadata": {},
   "outputs": [
    {
     "name": "stdout",
     "output_type": "stream",
     "text": [
      "[[635  40]\n",
      " [143  62]]\n"
     ]
    }
   ],
   "source": [
    "y_test_preds = (y_test_preds >= 0.5).astype(int)\n",
    "cm = confusion_matrix(y_test, y_test_preds)\n",
    "print(cm)"
   ]
  },
  {
   "cell_type": "code",
   "execution_count": 29,
   "metadata": {},
   "outputs": [
    {
     "name": "stdout",
     "output_type": "stream",
     "text": [
      "Model refinement improved R2 score by -0.0100\n"
     ]
    }
   ],
   "source": [
    "\n",
    "print('Model refinement improved R2 score by {:.4f}'.format(r2_optimized-r2_not_refined))"
   ]
  },
  {
   "cell_type": "markdown",
   "metadata": {},
   "source": [
    "### Create a Deep Learning Model"
   ]
  },
  {
   "cell_type": "markdown",
   "metadata": {},
   "source": [
    "- Convert the data frame to tensors"
   ]
  },
  {
   "cell_type": "code",
   "execution_count": 30,
   "metadata": {},
   "outputs": [
    {
     "name": "stdout",
     "output_type": "stream",
     "text": [
      "torch.Size([4400, 20])\n",
      "torch.Size([4400])\n"
     ]
    }
   ],
   "source": [
    "# Convert df_merged to a tensor\n",
    "import torch\n",
    "import torch.nn as nn\n",
    "import torch.optim as optim\n",
    "import numpy as np\n",
    "from sklearn.metrics import accuracy_score\n",
    "\n",
    "# Convert the data to PyTorch tensors\n",
    "X = df_merged.drop(columns=['subject_id', 'deceased'])\n",
    "y = df_merged['deceased']\n",
    "\n",
    "# Convert all of the columns to float32\n",
    "X = X.astype(np.float32)\n",
    "X_tensor = torch.tensor(X.values, dtype=torch.float32).to(device='mps')\n",
    "print(X_tensor.shape)\n",
    "y_tensor = torch.tensor(y.values, dtype=torch.float32).to(device='mps')\n",
    "print(y_tensor.shape)\n"
   ]
  },
  {
   "cell_type": "markdown",
   "metadata": {},
   "source": [
    "- Normalize the data"
   ]
  },
  {
   "cell_type": "code",
   "execution_count": 31,
   "metadata": {},
   "outputs": [],
   "source": [
    "# Normalize the data\n",
    "X_tensor = (X_tensor - X_tensor.mean(dim=0)) / X_tensor.std(dim=0)\n",
    "y_tensor = (y_tensor - y_tensor.mean(dim=0)) / y_tensor.std(dim=0)\n",
    " "
   ]
  },
  {
   "cell_type": "markdown",
   "metadata": {},
   "source": [
    "- Split the date into training and test data"
   ]
  },
  {
   "cell_type": "code",
   "execution_count": 32,
   "metadata": {},
   "outputs": [],
   "source": [
    "# Split the data into training (80%) and testing sets (20%)\n",
    "n_samples = X_tensor.shape[0]\n",
    "n_val = int(n_samples * 0.2)\n",
    "n_train = n_samples - n_val\n",
    "train_data = X_tensor[:n_train].to(device='mps')\n",
    "val_data = X_tensor[n_train:].to(device='mps')\n",
    "train_labels = y_tensor[:n_train].to(device='mps')\n",
    "val_labels = y_tensor[n_train:].to(device='mps')"
   ]
  },
  {
   "cell_type": "markdown",
   "metadata": {},
   "source": [
    "- Create a binary classification model"
   ]
  },
  {
   "cell_type": "code",
   "execution_count": 33,
   "metadata": {},
   "outputs": [],
   "source": [
    "# Create a binary classification model\n",
    "class BinaryClassificationModel(nn.Module):\n",
    "    def __init__(self, input_size):\n",
    "        super(BinaryClassificationModel, self).__init__()\n",
    "        self.fc1 = nn.Linear(input_size, 64)\n",
    "        self.fc2 = nn.Linear(64, 32)\n",
    "        self.fc3 = nn.Linear(32, 1)\n",
    "        self.sigmoid = nn.Sigmoid()\n",
    "\n",
    "    def forward(self, x):\n",
    "        x = torch.relu(self.fc1(x))\n",
    "        x = torch.relu(self.fc2(x))\n",
    "        x = self.sigmoid(self.fc3(x))\n",
    "        return x"
   ]
  },
  {
   "cell_type": "markdown",
   "metadata": {},
   "source": [
    "- Train and evaluate the model"
   ]
  },
  {
   "cell_type": "code",
   "execution_count": 34,
   "metadata": {},
   "outputs": [],
   "source": [
    "# Train the model\n",
    "input_size = X_tensor.shape[1]\n",
    "model = BinaryClassificationModel(input_size).to(device='mps')\n",
    "criterion = nn.BCELoss()\n",
    "optimizer = optim.Adam(model.parameters(), lr=0.001)\n"
   ]
  },
  {
   "cell_type": "code",
   "execution_count": 35,
   "metadata": {},
   "outputs": [
    {
     "name": "stdout",
     "output_type": "stream",
     "text": [
      "Epoch [10/50], Loss: 0.5058\n",
      "Epoch [20/50], Loss: 0.3772\n",
      "Epoch [30/50], Loss: 0.2280\n",
      "Epoch [40/50], Loss: 0.0456\n",
      "Epoch [50/50], Loss: -0.1768\n",
      "Validation Accuracy: 0.7909\n"
     ]
    }
   ],
   "source": [
    "\n",
    "# Training loop\n",
    "num_epochs = 50\n",
    "\n",
    "for epoch in range(num_epochs):\n",
    "    model.train()\n",
    "    optimizer.zero_grad()\n",
    "    outputs = model(train_data)\n",
    "    loss = criterion(outputs.squeeze(), train_labels)\n",
    "    loss.backward()\n",
    "    optimizer.step()\n",
    "\n",
    "    # Print loss every 10 epochs\n",
    "    if (epoch+1) % 10 == 0:\n",
    "        print(f'Epoch [{epoch+1}/{num_epochs}], Loss: {loss.item():.4f}')\n",
    "\n",
    "# Evaluate the model\n",
    "with torch.inference_mode():\n",
    "    model.eval()\n",
    "\n",
    "    val_outputs = model(val_data)\n",
    "    val_loss = criterion(val_outputs.squeeze(), val_labels)\n",
    "\n",
    "    # Convert predictions to binary (0 or 1) for classification metrics\n",
    "    val_preds = (val_outputs.squeeze() >= 0.5).float()\n",
    "    \n",
    "    # Ensure the predictions are integers for compatibility with classification metrics\n",
    "    val_preds = val_preds.int()\n",
    "    val_labels = val_labels.int()\n",
    "    \n",
    "    accuracy = accuracy_score(val_labels.int().cpu(), val_preds.int().cpu())\n",
    "    print(f'Validation Accuracy: {accuracy:.4f}')"
   ]
  }
 ],
 "metadata": {
  "kernelspec": {
   "display_name": "dl_hw",
   "language": "python",
   "name": "python3"
  },
  "language_info": {
   "codemirror_mode": {
    "name": "ipython",
    "version": 3
   },
   "file_extension": ".py",
   "mimetype": "text/x-python",
   "name": "python",
   "nbconvert_exporter": "python",
   "pygments_lexer": "ipython3",
   "version": "3.11.8"
  }
 },
 "nbformat": 4,
 "nbformat_minor": 2
}
